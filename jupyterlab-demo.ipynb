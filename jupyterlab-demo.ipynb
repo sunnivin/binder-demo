{
 "cells": [
  {
   "cell_type": "code",
   "execution_count": 5,
   "id": "93faa742-a55a-45cc-9d34-0448e75a9560",
   "metadata": {},
   "outputs": [],
   "source": [
    "## My first jupyterlab-demo"
   ]
  },
  {
   "cell_type": "markdown",
   "id": "7e5fc6d1-ab9a-49be-bf4d-8ee5d72aa395",
   "metadata": {},
   "source": [
    "## Relevant formulas\n",
    "\n",
    "- square area: $s = (2 r)^2$\n",
    "- circle area: $c = \\pi r^2$\n",
    "- $c/s = (\\pi r^2) / (4 r^2) = \\pi / 4$\n",
    "- $\\pi = 4 * c/s$"
   ]
  },
  {
   "cell_type": "code",
   "execution_count": null,
   "id": "e4c77ab4-75de-48b9-8bab-2af53e93b098",
   "metadata": {},
   "outputs": [],
   "source": []
  }
 ],
 "metadata": {
  "kernelspec": {
   "display_name": "Python 3",
   "language": "python",
   "name": "python3"
  },
  "language_info": {
   "codemirror_mode": {
    "name": "ipython",
    "version": 3
   },
   "file_extension": ".py",
   "mimetype": "text/x-python",
   "name": "python",
   "nbconvert_exporter": "python",
   "pygments_lexer": "ipython3",
   "version": "3.9.4"
  }
 },
 "nbformat": 4,
 "nbformat_minor": 5
}
